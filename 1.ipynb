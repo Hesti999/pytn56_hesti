{
 "cells": [
  {
   "cell_type": "code",
   "execution_count": 3,
   "id": "8fede792-d3fe-4528-9f7b-f87ff5229f8e",
   "metadata": {},
   "outputs": [],
   "source": [
    "import numpy as np"
   ]
  },
  {
   "cell_type": "code",
   "execution_count": null,
   "id": "a120b1ab-c309-4502-96b0-e2a4e1afeda8",
   "metadata": {},
   "outputs": [],
   "source": []
  },
  {
   "cell_type": "code",
   "execution_count": null,
   "id": "de91e2fc-64ae-4851-9cb2-55279811ed29",
   "metadata": {},
   "outputs": [],
   "source": []
  },
  {
   "cell_type": "code",
   "execution_count": 10,
   "id": "58f69d25-4de2-4b3f-833b-41e1bae4d3da",
   "metadata": {},
   "outputs": [],
   "source": [
    "tinggi = [57,89,67,18]\n",
    "lebar = [45,77,17]"
   ]
  },
  {
   "cell_type": "code",
   "execution_count": 7,
   "id": "c49dad85-9639-433b-aa80-e24dcd6629d9",
   "metadata": {},
   "outputs": [],
   "source": [
    "arr_tinggi = np.array(tinggi)\n",
    "arr_lebar = np.array(lebar)\n",
    "\n",
    "hasil = arr_tinggi * arr_lebar"
   ]
  },
  {
   "cell_type": "code",
   "execution_count": 11,
   "id": "20c2b1c6-d3fe-4050-8b7b-179f6171a559",
   "metadata": {},
   "outputs": [
    {
     "name": "stdout",
     "output_type": "stream",
     "text": [
      "[2565 6853 1139 1620] <class 'numpy.ndarray'>\n"
     ]
    }
   ],
   "source": [
    "print(hasil, type(hasil))"
   ]
  },
  {
   "cell_type": "markdown",
   "id": "de646a58-de3a-4bbe-9d01-1e5c1ad83af0",
   "metadata": {},
   "source": [
    "#array 2D = ada array didalam array\n",
    "[\n",
    "    [1,2,3,4,5],\n",
    "    [1,2,3,4,5],\n",
    "    [1,2,3,4,5],\n",
    "    [1,2,3,4,5]\n",
    "]"
   ]
  },
  {
   "cell_type": "code",
   "execution_count": 19,
   "id": "0acde91b-a5ff-48df-9bce-6946cd4d194f",
   "metadata": {},
   "outputs": [
    {
     "data": {
      "text/plain": [
       "array([0., 0., 0., 0., 0.])"
      ]
     },
     "execution_count": 19,
     "metadata": {},
     "output_type": "execute_result"
    }
   ],
   "source": [
    "np.zeros(5)"
   ]
  },
  {
   "cell_type": "code",
   "execution_count": 20,
   "id": "f8689928-01b1-4634-87e6-b021e8ccc452",
   "metadata": {},
   "outputs": [
    {
     "data": {
      "text/plain": [
       "array([1., 1., 1.])"
      ]
     },
     "execution_count": 20,
     "metadata": {},
     "output_type": "execute_result"
    }
   ],
   "source": [
    "np.ones(3)"
   ]
  },
  {
   "cell_type": "code",
   "execution_count": 25,
   "id": "e80f873d-2f95-4bc9-867e-7a5ce5f34672",
   "metadata": {},
   "outputs": [
    {
     "data": {
      "text/plain": [
       "array([2.12199579e-314, 2.16847386e-028, 2.68771711e-321, 3.79442416e-321])"
      ]
     },
     "execution_count": 25,
     "metadata": {},
     "output_type": "execute_result"
    }
   ],
   "source": [
    "np.empty(4)"
   ]
  },
  {
   "cell_type": "code",
   "execution_count": 27,
   "id": "69f3edb3-621b-4aea-9cd0-3b139546679b",
   "metadata": {},
   "outputs": [
    {
     "data": {
      "text/plain": [
       "array([0, 1, 2, 3, 4, 5, 6, 7, 8, 9])"
      ]
     },
     "execution_count": 27,
     "metadata": {},
     "output_type": "execute_result"
    }
   ],
   "source": [
    "np.arange(10)"
   ]
  },
  {
   "cell_type": "code",
   "execution_count": 29,
   "id": "59e72813-efc2-44c9-a81a-86660f0131e7",
   "metadata": {},
   "outputs": [
    {
     "data": {
      "text/plain": [
       "array([ 7,  9, 11, 13])"
      ]
     },
     "execution_count": 29,
     "metadata": {},
     "output_type": "execute_result"
    }
   ],
   "source": [
    "arr_numbers = np.arange(7, 15, 2)\n",
    "arr_numbers"
   ]
  },
  {
   "cell_type": "code",
   "execution_count": 30,
   "id": "aa958524-d569-4bb5-9aa4-66eed83ff087",
   "metadata": {},
   "outputs": [
    {
     "data": {
      "text/plain": [
       "array([ 7,  9, 11, 13, 15])"
      ]
     },
     "execution_count": 30,
     "metadata": {},
     "output_type": "execute_result"
    }
   ],
   "source": [
    "arr_numbers = np.append(arr_numbers, 15)\n",
    "arr_numbers"
   ]
  },
  {
   "cell_type": "code",
   "execution_count": 34,
   "id": "f09c5624-3846-4d81-8888-4bfaad8cd223",
   "metadata": {},
   "outputs": [
    {
     "data": {
      "text/plain": [
       "array([ 7,  9, 11, 13, 15, 15, 17])"
      ]
     },
     "execution_count": 34,
     "metadata": {},
     "output_type": "execute_result"
    }
   ],
   "source": [
    "hasil = np.append(arr_numbers, [15, 17])\n",
    "hasil\n"
   ]
  },
  {
   "cell_type": "code",
   "execution_count": 35,
   "id": "44d476a2-b12a-4d38-ac65-974da10123b2",
   "metadata": {},
   "outputs": [
    {
     "name": "stdout",
     "output_type": "stream",
     "text": [
      "[ 7 11 13 15 15 17]\n"
     ]
    }
   ],
   "source": [
    "hasil_return = np.delete(hasil,1)\n",
    "print(hasil_return)"
   ]
  },
  {
   "cell_type": "code",
   "execution_count": 36,
   "id": "8542527b-79e9-4fe6-8d95-8c7ff0bedb1c",
   "metadata": {},
   "outputs": [
    {
     "data": {
      "text/plain": [
       "array([-5, -1,  2,  9])"
      ]
     },
     "execution_count": 36,
     "metadata": {},
     "output_type": "execute_result"
    }
   ],
   "source": [
    "random_num = np.array([-1,2,9,-5])\n",
    "np.sort(random_num)"
   ]
  },
  {
   "cell_type": "markdown",
   "id": "f373d904-9784-48dd-8b4a-0df540cde31e",
   "metadata": {},
   "source": [
    "#numpy tidak kena pass by refrence"
   ]
  },
  {
   "cell_type": "code",
   "execution_count": 38,
   "id": "8d3c588e-710a-4cf5-a5c1-1f041203a1b9",
   "metadata": {},
   "outputs": [
    {
     "data": {
      "text/plain": [
       "1"
      ]
     },
     "execution_count": 38,
     "metadata": {},
     "output_type": "execute_result"
    }
   ],
   "source": [
    ".ndim \n",
    ".size\n",
    ".shape\n",
    "#bukan function, tidak perlu di () invoke"
   ]
  },
  {
   "cell_type": "code",
   "execution_count": 45,
   "id": "ff2e72bc-dea1-4c29-b374-a721b0c17fb6",
   "metadata": {},
   "outputs": [
    {
     "data": {
      "text/plain": [
       "(4,)"
      ]
     },
     "execution_count": 45,
     "metadata": {},
     "output_type": "execute_result"
    }
   ],
   "source": [
    "random_num.shape"
   ]
  },
  {
   "cell_type": "code",
   "execution_count": 49,
   "id": "1dd7436c-bd9e-4ff4-81ad-544e4aca1027",
   "metadata": {},
   "outputs": [],
   "source": [
    "arr_2d = np.array([\n",
    "    [\"o\",\"x\",\"o\"],\n",
    "    [\"x\",\"x\",\"o\"]\n",
    "])"
   ]
  },
  {
   "cell_type": "code",
   "execution_count": 42,
   "id": "9d72fc9c-fe16-4ced-ae91-5dbe73c92cbc",
   "metadata": {},
   "outputs": [
    {
     "data": {
      "text/plain": [
       "2"
      ]
     },
     "execution_count": 42,
     "metadata": {},
     "output_type": "execute_result"
    }
   ],
   "source": [
    "arr_2d.ndim"
   ]
  },
  {
   "cell_type": "code",
   "execution_count": 43,
   "id": "52e4344f-54ba-426e-ab9d-bf3ef44157cf",
   "metadata": {},
   "outputs": [
    {
     "data": {
      "text/plain": [
       "9"
      ]
     },
     "execution_count": 43,
     "metadata": {},
     "output_type": "execute_result"
    }
   ],
   "source": [
    "arr_2d.size"
   ]
  },
  {
   "cell_type": "code",
   "execution_count": 50,
   "id": "1c5a58fb-51e1-4a6a-8e8f-ba6ab6ba387e",
   "metadata": {},
   "outputs": [
    {
     "data": {
      "text/plain": [
       "(2, 3)"
      ]
     },
     "execution_count": 50,
     "metadata": {},
     "output_type": "execute_result"
    }
   ],
   "source": [
    "arr_2d.shape"
   ]
  },
  {
   "cell_type": "code",
   "execution_count": 52,
   "id": "add0ffcc-e318-4f71-870a-aadc9e0c096d",
   "metadata": {},
   "outputs": [
    {
     "name": "stdout",
     "output_type": "stream",
     "text": [
      "[['o' 'x']\n",
      " ['o' 'x']\n",
      " ['x' 'o']]\n"
     ]
    }
   ],
   "source": [
    "transposes = arr_2d.reshape(3,2)\n",
    "print(transposes)"
   ]
  },
  {
   "cell_type": "code",
   "execution_count": 60,
   "id": "49d17970-a071-44c3-8800-2bea59ccaecf",
   "metadata": {},
   "outputs": [
    {
     "name": "stdout",
     "output_type": "stream",
     "text": [
      "[-1  2  9 -5]\n",
      "[[-1  2  9 -5]]\n"
     ]
    }
   ],
   "source": [
    "print(random_num)\n",
    "\n",
    "arr_nums_baru = random_num[np.newaxis] #menambahkan dimensi/axis baru\n",
    "print(arr_nums_baru) "
   ]
  },
  {
   "cell_type": "code",
   "execution_count": 61,
   "id": "aed36ce5-1ca7-479b-81eb-7c7d7b83c996",
   "metadata": {},
   "outputs": [
    {
     "data": {
      "text/plain": [
       "array([[-1],\n",
       "       [ 2],\n",
       "       [ 9],\n",
       "       [-5]])"
      ]
     },
     "execution_count": 61,
     "metadata": {},
     "output_type": "execute_result"
    }
   ],
   "source": [
    "random_num[:, np.newaxis]"
   ]
  },
  {
   "cell_type": "code",
   "execution_count": 62,
   "id": "1717b8a5-1abc-47b7-9259-8a7b9b86f6a3",
   "metadata": {},
   "outputs": [
    {
     "data": {
      "text/plain": [
       "array([[-1,  2,  9, -5]])"
      ]
     },
     "execution_count": 62,
     "metadata": {},
     "output_type": "execute_result"
    }
   ],
   "source": [
    "np.expand_dims(random_num, axis=0)"
   ]
  },
  {
   "cell_type": "code",
   "execution_count": 63,
   "id": "b592924a-97b0-49ba-8a8b-b2a46835b3c1",
   "metadata": {},
   "outputs": [
    {
     "data": {
      "text/plain": [
       "array([[-1],\n",
       "       [ 2],\n",
       "       [ 9],\n",
       "       [-5]])"
      ]
     },
     "execution_count": 63,
     "metadata": {},
     "output_type": "execute_result"
    }
   ],
   "source": [
    "np.expand_dims(random_num, axis=1)"
   ]
  },
  {
   "cell_type": "code",
   "execution_count": 64,
   "id": "b5ad6efc-39f4-49f9-bc58-a7ed41eaa2dd",
   "metadata": {},
   "outputs": [
    {
     "data": {
      "text/plain": [
       "array([ 2,  9, -5])"
      ]
     },
     "execution_count": 64,
     "metadata": {},
     "output_type": "execute_result"
    }
   ],
   "source": [
    "random_num[-3:]"
   ]
  },
  {
   "cell_type": "markdown",
   "id": "532ea34d-613f-4fa8-b42b-f5c286d91edc",
   "metadata": {},
   "source": [
    "cara indexing dan slicing di numpy array sama persis dengan list biasa"
   ]
  },
  {
   "cell_type": "code",
   "execution_count": 68,
   "id": "73a3ed5a-480b-4634-98bf-371b31dc9c3f",
   "metadata": {},
   "outputs": [
    {
     "data": {
      "text/plain": [
       "array([-1, -5])"
      ]
     },
     "execution_count": 68,
     "metadata": {},
     "output_type": "execute_result"
    }
   ],
   "source": [
    "random_num[random_num < 0]"
   ]
  },
  {
   "cell_type": "markdown",
   "id": "56d2f5f8-7cf4-4e3d-bcc4-f553ac7d1d2c",
   "metadata": {},
   "source": []
  },
  {
   "cell_type": "code",
   "execution_count": 73,
   "id": "9235d99b-bb7d-4f64-bfeb-1d8bcec41ab0",
   "metadata": {},
   "outputs": [
    {
     "data": {
      "text/plain": [
       "array([[ 1,  2],\n",
       "       [ 3,  4],\n",
       "       [-1, -2]])"
      ]
     },
     "execution_count": 73,
     "metadata": {},
     "output_type": "execute_result"
    }
   ],
   "source": [
    "arr_a = np.array([[1,2], [3,4], [-1,-2]])\n",
    "arr_a"
   ]
  },
  {
   "cell_type": "code",
   "execution_count": 76,
   "id": "3802c702-fd69-47a3-b01a-e079e24a358d",
   "metadata": {},
   "outputs": [
    {
     "data": {
      "text/plain": [
       "array([[ 5,  6],\n",
       "       [ 7,  8],\n",
       "       [ 9, 10]])"
      ]
     },
     "execution_count": 76,
     "metadata": {},
     "output_type": "execute_result"
    }
   ],
   "source": [
    "arr_b = np.array([[5,6], [7,8], [9,10]])\n",
    "arr_b"
   ]
  },
  {
   "cell_type": "code",
   "execution_count": 74,
   "id": "a46c2815-659b-4387-8947-f637a28f7b5d",
   "metadata": {},
   "outputs": [
    {
     "data": {
      "text/plain": [
       "array([[ 1,  2],\n",
       "       [ 3,  4],\n",
       "       [-1, -2],\n",
       "       [ 5,  6],\n",
       "       [ 7,  8]])"
      ]
     },
     "execution_count": 74,
     "metadata": {},
     "output_type": "execute_result"
    }
   ],
   "source": [
    "np.vstack((arr_a, arr_b))"
   ]
  },
  {
   "cell_type": "code",
   "execution_count": 79,
   "id": "81d59d4e-eeff-4b51-9f0c-542516eb51bb",
   "metadata": {},
   "outputs": [
    {
     "name": "stdout",
     "output_type": "stream",
     "text": [
      "[[ 1  2  5  6]\n",
      " [ 3  4  7  8]\n",
      " [-1 -2  9 10]]\n"
     ]
    }
   ],
   "source": [
    "iya = np.hstack((arr_a, arr_b))\n",
    "print(iya)"
   ]
  },
  {
   "cell_type": "code",
   "execution_count": 82,
   "id": "a91e13bd-f257-4abb-937f-df3af52a2b65",
   "metadata": {},
   "outputs": [
    {
     "data": {
      "text/plain": [
       "list"
      ]
     },
     "execution_count": 82,
     "metadata": {},
     "output_type": "execute_result"
    }
   ],
   "source": [
    "iya_2 = np.hsplit(iya, 2)\n",
    "type(iya_2)"
   ]
  },
  {
   "cell_type": "code",
   "execution_count": 87,
   "id": "f6ac6bd0-fffb-4df6-a040-08d01f545cd8",
   "metadata": {},
   "outputs": [
    {
     "name": "stdout",
     "output_type": "stream",
     "text": [
      "[ 0  1  2  3  4  5  6  7  8  9 10 11]\n"
     ]
    }
   ],
   "source": [
    "a = np.arange(12)\n",
    "print(a)"
   ]
  },
  {
   "cell_type": "code",
   "execution_count": 90,
   "id": "d1544b13-17bc-463a-926e-c188537fdddd",
   "metadata": {},
   "outputs": [
    {
     "name": "stdout",
     "output_type": "stream",
     "text": [
      "[ 0  1  2  3  4  5  6  7  8  9 10 11]\n",
      "[ 0  1  2  3  4  5  6  7  8  9 10 11]\n"
     ]
    }
   ],
   "source": [
    "b = a.view()\n",
    "print(b)\n",
    "print(a)"
   ]
  },
  {
   "cell_type": "code",
   "execution_count": 92,
   "id": "7afcf20d-f744-4ea3-8157-0828d681115f",
   "metadata": {},
   "outputs": [
    {
     "name": "stdout",
     "output_type": "stream",
     "text": [
      "[1. 1. 1. 1. 1. 1. 1. 1.]\n"
     ]
    }
   ],
   "source": [
    "print(np.ones(8))"
   ]
  },
  {
   "cell_type": "code",
   "execution_count": 100,
   "id": "4820b91e-608b-4d38-a391-602810a5045c",
   "metadata": {},
   "outputs": [
    {
     "name": "stdout",
     "output_type": "stream",
     "text": [
      "[ 0  1  2  3  4  5  6  7  8  9 10 11]\n",
      "[[ 1.  2.  3.  4.]\n",
      " [ 5.  6.  7.  8.]\n",
      " [ 9. 10. 11. 12.]]\n"
     ]
    }
   ],
   "source": [
    "print(a)\n",
    "\n",
    "print(a.reshape(3,4)+np.ones(12).reshape(3,4)) #pertambahan vektor harus sama isi nya"
   ]
  },
  {
   "cell_type": "code",
   "execution_count": 102,
   "id": "b805e886-96bd-4281-b32f-188c80e55861",
   "metadata": {},
   "outputs": [
    {
     "data": {
      "text/plain": [
       "array([ 0,  9, 18, 27, 36, 45, 54, 63, 72, 81, 90, 99])"
      ]
     },
     "execution_count": 102,
     "metadata": {},
     "output_type": "execute_result"
    }
   ],
   "source": [
    "a*9"
   ]
  },
  {
   "cell_type": "code",
   "execution_count": 103,
   "id": "c4474f06-6402-405a-a59e-dc0b80994f0f",
   "metadata": {},
   "outputs": [
    {
     "data": {
      "text/plain": [
       "array([0.        , 0.14285714, 0.28571429, 0.42857143, 0.57142857,\n",
       "       0.71428571, 0.85714286, 1.        , 1.14285714, 1.28571429,\n",
       "       1.42857143, 1.57142857])"
      ]
     },
     "execution_count": 103,
     "metadata": {},
     "output_type": "execute_result"
    }
   ],
   "source": [
    "a/7"
   ]
  },
  {
   "cell_type": "code",
   "execution_count": 117,
   "id": "7d98cf78-bdff-47ce-800e-e418d90199d5",
   "metadata": {},
   "outputs": [
    {
     "name": "stdout",
     "output_type": "stream",
     "text": [
      "[[  661   725]\n",
      " [15888 14300]]\n"
     ]
    }
   ],
   "source": [
    "m1 = np.array([\n",
    "    [2,6,5],\n",
    "    [139, 154, 75]\n",
    "    \n",
    "])\n",
    "\n",
    "m2 = np.array([\n",
    "    [9,5],\n",
    "    [78,45],\n",
    "    [35,89]\n",
    "])\n",
    "\n",
    "hasil = np.dot(m1,m2)\n",
    "print(hasil)"
   ]
  },
  {
   "cell_type": "code",
   "execution_count": 119,
   "id": "5e06c681-9f88-4f43-a448-40432bf2ebc0",
   "metadata": {},
   "outputs": [
    {
     "data": {
      "text/plain": [
       "9"
      ]
     },
     "execution_count": 119,
     "metadata": {},
     "output_type": "execute_result"
    }
   ],
   "source": [
    "m2[0,0]"
   ]
  },
  {
   "cell_type": "code",
   "execution_count": null,
   "id": "8d4eac83-38fd-4e18-8573-996113e0f80d",
   "metadata": {},
   "outputs": [],
   "source": []
  },
  {
   "cell_type": "code",
   "execution_count": 122,
   "id": "12147801-1ae8-4cf6-b735-0cd2a52997bf",
   "metadata": {},
   "outputs": [
    {
     "data": {
      "text/plain": [
       "array([ 5, 45, 89])"
      ]
     },
     "execution_count": 122,
     "metadata": {},
     "output_type": "execute_result"
    }
   ],
   "source": [
    "m2[:,1]"
   ]
  },
  {
   "cell_type": "code",
   "execution_count": 126,
   "id": "04930f5a-b539-4b8a-abca-2f6f747fbc0c",
   "metadata": {},
   "outputs": [
    {
     "data": {
      "text/plain": [
       "array([[[0., 0., 0.],\n",
       "        [0., 0., 0.]],\n",
       "\n",
       "       [[0., 0., 0.],\n",
       "        [0., 0., 0.]],\n",
       "\n",
       "       [[0., 0., 0.],\n",
       "        [0., 0., 0.]],\n",
       "\n",
       "       [[0., 0., 0.],\n",
       "        [0., 0., 0.]]])"
      ]
     },
     "execution_count": 126,
     "metadata": {},
     "output_type": "execute_result"
    }
   ],
   "source": [
    "np.zeros((4,2,3))"
   ]
  }
 ],
 "metadata": {
  "kernelspec": {
   "display_name": "Python 3",
   "language": "python",
   "name": "python3"
  },
  "language_info": {
   "codemirror_mode": {
    "name": "ipython",
    "version": 3
   },
   "file_extension": ".py",
   "mimetype": "text/x-python",
   "name": "python",
   "nbconvert_exporter": "python",
   "pygments_lexer": "ipython3",
   "version": "3.9.5"
  }
 },
 "nbformat": 4,
 "nbformat_minor": 5
}

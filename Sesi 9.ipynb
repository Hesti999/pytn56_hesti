{
  "nbformat": 4,
  "nbformat_minor": 0,
  "metadata": {
    "colab": {
      "name": "Pertemuan 9.ipynb",
      "provenance": [],
      "collapsed_sections": [],
      "toc_visible": true
    },
    "kernelspec": {
      "name": "python3",
      "display_name": "Python 3"
    },
    "language_info": {
      "name": "python"
    }
  },
  "cells": [
    {
      "cell_type": "code",
      "metadata": {
        "id": "R33Ue7zmU6hn"
      },
      "source": [
        "import math\n",
        "import statistics\n",
        "import numpy as np\n",
        "import scipy.stats\n",
        "import pandas as pd"
      ],
      "execution_count": 1,
      "outputs": []
    },
    {
      "cell_type": "code",
      "metadata": {
        "colab": {
          "base_uri": "https://localhost:8080/"
        },
        "id": "pxYLRjFPVGnV",
        "outputId": "e61cf910-92bf-42d4-ba47-8c032e565b7a"
      },
      "source": [
        "x = [8.0, 1, 2.5, 4, 28.0]\n",
        "x_with_nan = [8.0, 1, 2.5, math.nan, 4, 28.0]\n",
        "\n",
        "print(x)\n",
        "print(x_with_nan)"
      ],
      "execution_count": 2,
      "outputs": [
        {
          "output_type": "stream",
          "text": [
            "[8.0, 1, 2.5, 4, 28.0]\n",
            "[8.0, 1, 2.5, nan, 4, 28.0]\n"
          ],
          "name": "stdout"
        }
      ]
    },
    {
      "cell_type": "code",
      "metadata": {
        "colab": {
          "base_uri": "https://localhost:8080/"
        },
        "id": "U_2Zsg4FVV1J",
        "outputId": "cc9c89ef-dbb8-4a7d-8ed2-57d55c3fda29"
      },
      "source": [
        "y, y_with_nan = np.array(x), np.array(x_with_nan)\n",
        "z, z_with_nan = pd.Series(x), pd.Series(x_with_nan)\n",
        "\n",
        "print(y)\n",
        "print(z)"
      ],
      "execution_count": 3,
      "outputs": [
        {
          "output_type": "stream",
          "text": [
            "[ 8.   1.   2.5  4.  28. ]\n",
            "0     8.0\n",
            "1     1.0\n",
            "2     2.5\n",
            "3     4.0\n",
            "4    28.0\n",
            "dtype: float64\n"
          ],
          "name": "stdout"
        }
      ]
    },
    {
      "cell_type": "markdown",
      "metadata": {
        "id": "KeU5AZb6XaCY"
      },
      "source": [
        "# Measure of Central Tendency"
      ]
    },
    {
      "cell_type": "markdown",
      "metadata": {
        "id": "315CBpKsXgng"
      },
      "source": [
        "**MEAN**"
      ]
    },
    {
      "cell_type": "code",
      "metadata": {
        "colab": {
          "base_uri": "https://localhost:8080/"
        },
        "id": "-DFLvh0_XeWR",
        "outputId": "ad8256fd-0939-463b-972e-d6b94acb5838"
      },
      "source": [
        "statistics.mean(x)"
      ],
      "execution_count": 4,
      "outputs": [
        {
          "output_type": "execute_result",
          "data": {
            "text/plain": [
              "8.7"
            ]
          },
          "metadata": {
            "tags": []
          },
          "execution_count": 4
        }
      ]
    },
    {
      "cell_type": "code",
      "metadata": {
        "colab": {
          "base_uri": "https://localhost:8080/"
        },
        "id": "xpef4pRKXreR",
        "outputId": "42a33c0a-50c9-4ea4-e7a1-e1dcfd707dfd"
      },
      "source": [
        "statistics.mean(x_with_nan)"
      ],
      "execution_count": 5,
      "outputs": [
        {
          "output_type": "execute_result",
          "data": {
            "text/plain": [
              "nan"
            ]
          },
          "metadata": {
            "tags": []
          },
          "execution_count": 5
        }
      ]
    },
    {
      "cell_type": "code",
      "metadata": {
        "colab": {
          "base_uri": "https://localhost:8080/"
        },
        "id": "pkME4EJaXwoR",
        "outputId": "bd631a3b-ef8f-4eae-e479-1c2d4589cfbc"
      },
      "source": [
        "np.mean(y)"
      ],
      "execution_count": 6,
      "outputs": [
        {
          "output_type": "execute_result",
          "data": {
            "text/plain": [
              "8.7"
            ]
          },
          "metadata": {
            "tags": []
          },
          "execution_count": 6
        }
      ]
    },
    {
      "cell_type": "code",
      "metadata": {
        "colab": {
          "base_uri": "https://localhost:8080/"
        },
        "id": "6mKfQ9bKYGgV",
        "outputId": "e2c7356f-b8e6-4427-8cdf-625010083579"
      },
      "source": [
        "y_with_nan"
      ],
      "execution_count": 9,
      "outputs": [
        {
          "output_type": "execute_result",
          "data": {
            "text/plain": [
              "array([ 8. ,  1. ,  2.5,  nan,  4. , 28. ])"
            ]
          },
          "metadata": {
            "tags": []
          },
          "execution_count": 9
        }
      ]
    },
    {
      "cell_type": "code",
      "metadata": {
        "colab": {
          "base_uri": "https://localhost:8080/"
        },
        "id": "RWMtbHn3YPHt",
        "outputId": "955867de-c58e-42bc-928d-6bd79b939de4"
      },
      "source": [
        "z_with_nan"
      ],
      "execution_count": 10,
      "outputs": [
        {
          "output_type": "execute_result",
          "data": {
            "text/plain": [
              "0     8.0\n",
              "1     1.0\n",
              "2     2.5\n",
              "3     NaN\n",
              "4     4.0\n",
              "5    28.0\n",
              "dtype: float64"
            ]
          },
          "metadata": {
            "tags": []
          },
          "execution_count": 10
        }
      ]
    },
    {
      "cell_type": "code",
      "metadata": {
        "colab": {
          "base_uri": "https://localhost:8080/"
        },
        "id": "TfzUosRHYQZn",
        "outputId": "66c1ec6b-04c6-483b-aa6b-4d8c26ea0668"
      },
      "source": [
        "np.nanmean(y_with_nan)"
      ],
      "execution_count": 12,
      "outputs": [
        {
          "output_type": "execute_result",
          "data": {
            "text/plain": [
              "8.7"
            ]
          },
          "metadata": {
            "tags": []
          },
          "execution_count": 12
        }
      ]
    },
    {
      "cell_type": "code",
      "metadata": {
        "colab": {
          "base_uri": "https://localhost:8080/"
        },
        "id": "KkLPr97DYcFm",
        "outputId": "91733896-b82a-475c-9a3b-c421f52961b0"
      },
      "source": [
        "z.mean()"
      ],
      "execution_count": 17,
      "outputs": [
        {
          "output_type": "execute_result",
          "data": {
            "text/plain": [
              "8.7"
            ]
          },
          "metadata": {
            "tags": []
          },
          "execution_count": 17
        }
      ]
    },
    {
      "cell_type": "code",
      "metadata": {
        "colab": {
          "base_uri": "https://localhost:8080/"
        },
        "id": "xia2sOwlYq4d",
        "outputId": "1f37b1fe-af23-4b1e-a1b3-524aaa086c5d"
      },
      "source": [
        "z_with_nan.mean()"
      ],
      "execution_count": 18,
      "outputs": [
        {
          "output_type": "execute_result",
          "data": {
            "text/plain": [
              "8.7"
            ]
          },
          "metadata": {
            "tags": []
          },
          "execution_count": 18
        }
      ]
    },
    {
      "cell_type": "markdown",
      "metadata": {
        "id": "gL8f2yFhZDPX"
      },
      "source": [
        "# Summary of Desc Stats"
      ]
    },
    {
      "cell_type": "code",
      "metadata": {
        "colab": {
          "base_uri": "https://localhost:8080/"
        },
        "id": "OWadP3-qZdet",
        "outputId": "018dbacf-8532-4007-cdef-5786fa72bdf3"
      },
      "source": [
        "z.describe()"
      ],
      "execution_count": 19,
      "outputs": [
        {
          "output_type": "execute_result",
          "data": {
            "text/plain": [
              "count     5.00000\n",
              "mean      8.70000\n",
              "std      11.09955\n",
              "min       1.00000\n",
              "25%       2.50000\n",
              "50%       4.00000\n",
              "75%       8.00000\n",
              "max      28.00000\n",
              "dtype: float64"
            ]
          },
          "metadata": {
            "tags": []
          },
          "execution_count": 19
        }
      ]
    },
    {
      "cell_type": "markdown",
      "metadata": {
        "id": "dO3PsMalZh0S"
      },
      "source": [
        "# Measure of Correlation"
      ]
    },
    {
      "cell_type": "code",
      "metadata": {
        "id": "5aJNGCI7Zl78"
      },
      "source": [
        "x = list(range(-10, 11))\n",
        "y = [0,2,2,2,2,3,3,6,7,4,7,6,6,9,4,5,5,10,11,12,14]\n",
        "\n",
        "x_, y_ = np.array(x), np.array(y)\n",
        "x_, y_ = pd.Series(x_), pd.Series(y_)"
      ],
      "execution_count": 22,
      "outputs": []
    },
    {
      "cell_type": "markdown",
      "metadata": {
        "id": "eUsiD90TaKpb"
      },
      "source": [
        "# Covariance"
      ]
    },
    {
      "cell_type": "code",
      "metadata": {
        "colab": {
          "base_uri": "https://localhost:8080/"
        },
        "id": "rzvyooncaQ6C",
        "outputId": "369f693c-90af-466c-91a2-c6cd932488be"
      },
      "source": [
        "np.cov(x_, y_)"
      ],
      "execution_count": 26,
      "outputs": [
        {
          "output_type": "execute_result",
          "data": {
            "text/plain": [
              "array([[38.5       , 19.95      ],\n",
              "       [19.95      , 13.91428571]])"
            ]
          },
          "metadata": {
            "tags": []
          },
          "execution_count": 26
        }
      ]
    }
  ]
}
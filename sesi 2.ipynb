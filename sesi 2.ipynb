{
 "cells": [
  {
   "cell_type": "code",
   "execution_count": 3,
   "metadata": {
    "colab": {
     "base_uri": "https://localhost:8080/"
    },
    "id": "ikkZ5SNtnlJT",
    "outputId": "3ad4d095-7444-400c-9314-531af98046db"
   },
   "outputs": [
    {
     "name": "stdout",
     "output_type": "stream",
     "text": [
      "a sama dengan b\n"
     ]
    }
   ],
   "source": [
    "a = 10\n",
    "b = 10\n",
    "\n",
    "if (a==b):\n",
    "  print(\"a sama dengan b\")"
   ]
  },
  {
   "cell_type": "code",
   "execution_count": 10,
   "metadata": {
    "colab": {
     "base_uri": "https://localhost:8080/"
    },
    "id": "f2N4Q6GnpFMf",
    "outputId": "27a45e3b-e8d8-49d5-fa18-8640e8ca5747"
   },
   "outputs": [
    {
     "name": "stdout",
     "output_type": "stream",
     "text": [
      "hi\n"
     ]
    }
   ],
   "source": [
    "str = \"bandung kota\"\n",
    "\n",
    "if \"jakarta\" in str:\n",
    "  print(\"ada jakarta di dalam str\")\n",
    "print(\"hi\")"
   ]
  },
  {
   "cell_type": "code",
   "execution_count": 12,
   "metadata": {
    "colab": {
     "base_uri": "https://localhost:8080/"
    },
    "id": "a2p3SMJOqZoi",
    "outputId": "1d14c1c5-2714-4d6d-84c3-d919503a5413"
   },
   "outputs": [
    {
     "name": "stdout",
     "output_type": "stream",
     "text": [
      "a > b\n",
      "diluar if a < b\n"
     ]
    }
   ],
   "source": [
    "a = 10\n",
    "b = 5\n",
    "c = 6\n",
    "\n",
    "if a < b:\n",
    "  print (\"a < b\")\n",
    "\n",
    "  if b < c:\n",
    "    print(\"a < b < c\")\n",
    "\n",
    "  if a < c:\n",
    "    print(\"a < b dan a < c\")\n",
    "\n",
    "  print(\"ok\")\n",
    "else:\n",
    "  print(\"a > b\")\n",
    "\n",
    "print(\"diluar if a < b\")"
   ]
  },
  {
   "cell_type": "markdown",
   "metadata": {
    "id": "csPISTe1sAMm"
   },
   "source": [
    "# hari ini mau jalan-jalan kalau uang nya cukup\n",
    "uang_cukup = 50000\n",
    "uang_dompet = 45000\n",
    "\n",
    "if uang_dompet >= uang_cukup:\n",
    "  print(\"jalan-jalan\")\n",
    "else:\n",
    "  print(\"tidak jadi jalan-jalan\")"
   ]
  },
  {
   "cell_type": "markdown",
   "metadata": {
    "id": "18TukauXs-Ru"
   },
   "source": []
  },
  {
   "cell_type": "markdown",
   "metadata": {
    "id": "6YKGsi_3s4Vl"
   },
   "source": []
  },
  {
   "cell_type": "code",
   "execution_count": 16,
   "metadata": {
    "colab": {
     "base_uri": "https://localhost:8080/"
    },
    "id": "p18Qi6l-tvQq",
    "outputId": "850134d8-7080-4edf-b49c-b896ce1e1492"
   },
   "outputs": [
    {
     "name": "stdout",
     "output_type": "stream",
     "text": [
      "halo hesti\n"
     ]
    }
   ],
   "source": [
    "nama_murid = \"hesti\"\n",
    "\n",
    "print(\"halo \" + nama_murid)"
   ]
  },
  {
   "cell_type": "code",
   "execution_count": 22,
   "metadata": {
    "colab": {
     "base_uri": "https://localhost:8080/"
    },
    "id": "oZB_ohY0t_Xl",
    "outputId": "49f80dd6-f682-4311-b4d0-27acf044abff"
   },
   "outputs": [
    {
     "name": "stdout",
     "output_type": "stream",
     "text": [
      "halo\n",
      "selamat\n",
      "datang\n"
     ]
    }
   ],
   "source": [
    "nama_murid = \"ryan\"\n",
    "if nama_murid == \"ryan\": print(\"halo\"); print(\"selamat\"); print(\"datang\")"
   ]
  },
  {
   "cell_type": "code",
   "execution_count": 24,
   "metadata": {
    "colab": {
     "base_uri": "https://localhost:8080/"
    },
    "id": "odz2UMZRvRhd",
    "outputId": "8f1373c3-1cef-4b0a-bffc-7734d34cd3e5"
   },
   "outputs": [
    {
     "name": "stdout",
     "output_type": "stream",
     "text": [
      "selesai\n"
     ]
    }
   ],
   "source": [
    "if nama_murid == \"ryan\":\n",
    "  pass\n",
    "print(\"selesai\")"
   ]
  },
  {
   "cell_type": "code",
   "execution_count": 27,
   "metadata": {
    "colab": {
     "base_uri": "https://localhost:8080/"
    },
    "id": "yeBImgRfvviz",
    "outputId": "34aba80d-e077-4c0a-ff48-5bf699801829"
   },
   "outputs": [
    {
     "name": "stdout",
     "output_type": "stream",
     "text": [
      "pushup\n",
      "pushup\n",
      "pushup\n",
      "pushup\n",
      "pushup\n",
      "pushup\n",
      "pushup\n",
      "pushup\n",
      "pushup\n",
      "pushup\n"
     ]
    }
   ],
   "source": [
    "# perulangan, while, mirip if tapi ia jalan hingga expression false\n",
    "total_pushup = 10\n",
    "sudah_pushup = 0\n",
    "\n",
    "while sudah_pushup < total_pushup:\n",
    "  print(\"pushup\")\n",
    "  sudah_pushup = sudah_pushup + 1"
   ]
  },
  {
   "cell_type": "code",
   "execution_count": 28,
   "metadata": {
    "colab": {
     "base_uri": "https://localhost:8080/"
    },
    "id": "3HdviQY02KuS",
    "outputId": "fe208673-a2e8-4ea2-d10e-ee80fa52beab"
   },
   "outputs": [
    {
     "name": "stdout",
     "output_type": "stream",
     "text": [
      "10\n",
      "9\n",
      "8\n",
      "7\n",
      "6\n",
      "5\n"
     ]
    }
   ],
   "source": [
    "n = 100\n",
    "while n > 5:\n",
    "  n -= 1\n",
    "  if n > 10:\n",
    "    continue\n",
    "  print (n)"
   ]
  },
  {
   "cell_type": "code",
   "execution_count": 29,
   "metadata": {
    "colab": {
     "base_uri": "https://localhost:8080/"
    },
    "id": "sBt3nSJx2aws",
    "outputId": "aadfc8a6-36ac-4358-aa98-193b0603aa27"
   },
   "outputs": [
    {
     "name": "stdout",
     "output_type": "stream",
     "text": [
      "hi idaz\n"
     ]
    }
   ],
   "source": [
    "nama_murid = \"idaz\"\n",
    "while nama_murid == \"idaz\":\n",
    "  print(\"hi idaz\")\n",
    "  break\n",
    "else:\n",
    "  print(\"selamat malam\" + nama_murid)"
   ]
  },
  {
   "cell_type": "code",
   "execution_count": 30,
   "metadata": {
    "colab": {
     "base_uri": "https://localhost:8080/"
    },
    "id": "rLnyz7Pp2WJq",
    "outputId": "a4f8a2db-2114-483e-c93d-fef873726e25"
   },
   "outputs": [
    {
     "name": "stdout",
     "output_type": "stream",
     "text": [
      "while pertama 10\n",
      "while kedua, nested 3\n",
      "while kedua, nested 2\n",
      "while kedua, nested 1\n",
      "while pertama 9\n",
      "while kedua, nested 3\n",
      "while kedua, nested 2\n",
      "while kedua, nested 1\n",
      "while pertama 8\n",
      "while kedua, nested 3\n",
      "while kedua, nested 2\n",
      "while kedua, nested 1\n",
      "while pertama 7\n",
      "while kedua, nested 3\n",
      "while kedua, nested 2\n",
      "while kedua, nested 1\n",
      "while pertama 6\n",
      "while kedua, nested 3\n",
      "while kedua, nested 2\n",
      "while kedua, nested 1\n",
      "while pertama 5\n",
      "while kedua, nested 3\n",
      "while kedua, nested 2\n",
      "while kedua, nested 1\n",
      "while pertama 4\n",
      "while kedua, nested 3\n",
      "while kedua, nested 2\n",
      "while kedua, nested 1\n",
      "while pertama 3\n",
      "while kedua, nested 3\n",
      "while kedua, nested 2\n",
      "while kedua, nested 1\n",
      "while pertama 2\n",
      "while kedua, nested 3\n",
      "while kedua, nested 2\n",
      "while kedua, nested 1\n",
      "while pertama 1\n",
      "while kedua, nested 3\n",
      "while kedua, nested 2\n",
      "while kedua, nested 1\n",
      "30\n"
     ]
    }
   ],
   "source": [
    "count = 0\n",
    "n = 10\n",
    "while n > 0:\n",
    "  print (\"while pertama\", n)\n",
    "\n",
    "  a = 3\n",
    "\n",
    "  while a > 0:\n",
    "    print(\"while kedua, nested\", a)\n",
    "    a -= 1\n",
    "    count += 1\n",
    "\n",
    "  n -= 1\n",
    "\n",
    "print(count)"
   ]
  },
  {
   "cell_type": "code",
   "execution_count": 31,
   "metadata": {
    "colab": {
     "base_uri": "https://localhost:8080/"
    },
    "id": "1jwLsAvk4OzJ",
    "outputId": "1df2b647-e535-4ee2-acd6-4efdf3c32785"
   },
   "outputs": [
    {
     "name": "stdout",
     "output_type": "stream",
     "text": [
      "4\n",
      "3\n",
      "2\n",
      "1\n",
      "0\n"
     ]
    }
   ],
   "source": [
    "n = 5\n",
    "while n > 0: n-= 1; print(n)"
   ]
  },
  {
   "cell_type": "code",
   "execution_count": 32,
   "metadata": {
    "colab": {
     "base_uri": "https://localhost:8080/"
    },
    "id": "7dS99K304tkL",
    "outputId": "49acbc18-3cfd-4127-9e8d-a8c770121e88"
   },
   "outputs": [
    {
     "name": "stdout",
     "output_type": "stream",
     "text": [
      "0\n",
      "1\n",
      "2\n",
      "3\n",
      "4\n"
     ]
    }
   ],
   "source": [
    "for n in range(5): #shortcur while expresion \n",
    "  print(n)"
   ]
  },
  {
   "cell_type": "code",
   "execution_count": 36,
   "metadata": {
    "colab": {
     "base_uri": "https://localhost:8080/"
    },
    "id": "TNIaLfSH5XfM",
    "outputId": "762cd35e-eb4e-4019-ee30-734d65e98a60"
   },
   "outputs": [
    {
     "name": "stdout",
     "output_type": "stream",
     "text": [
      "halo hesti\n",
      "halo hesti\n",
      "halo hesti\n",
      "halo hesti\n",
      "halo hesti\n",
      "selamat malam\n"
     ]
    }
   ],
   "source": [
    "list_murid = [\"kevin\", \"azka\", \"andi\", \"loi\", \"hesti\"]\n",
    "\n",
    "for murid in list_murid:\n",
    "  print(\"halo\", murid)\n",
    "  if murid == \"hesti\":\n",
    "    print(\"selamat malam\")"
   ]
  },
  {
   "cell_type": "code",
   "execution_count": 38,
   "metadata": {
    "colab": {
     "base_uri": "https://localhost:8080/"
    },
    "id": "JeDKYao859Cq",
    "outputId": "52400f22-ebd8-43e7-c68c-e9c588ce354f"
   },
   "outputs": [
    {
     "name": "stdout",
     "output_type": "stream",
     "text": [
      "kevin 80\n",
      "azka 90\n",
      "andi 90\n",
      "loi 80\n",
      "hesti 100\n"
     ]
    }
   ],
   "source": [
    "dict_murid = {\"kevin\": 80, \"azka\": 90, \"andi\": 90, \"loi\": 80, \"hesti\": 100}\n",
    "\n",
    "for murid, nilai in dict_murid.items():\n",
    "  print(murid, nilai)"
   ]
  },
  {
   "cell_type": "code",
   "execution_count": 39,
   "metadata": {
    "colab": {
     "base_uri": "https://localhost:8080/"
    },
    "id": "mNtpUkAD6lVE",
    "outputId": "303545af-ffbe-4189-93c9-ce2dbd5787d1"
   },
   "outputs": [
    {
     "data": {
      "text/plain": [
       "{'andi': 90, 'azka': 90, 'hesti': 100, 'kevin': 80, 'loi': 80}"
      ]
     },
     "execution_count": 39,
     "metadata": {
      "tags": []
     },
     "output_type": "execute_result"
    }
   ],
   "source": [
    "for n in range "
   ]
  }
 ],
 "metadata": {
  "colab": {
   "name": "Untitled31.ipynb",
   "provenance": []
  },
  "kernelspec": {
   "display_name": "Python 3",
   "language": "python",
   "name": "python3"
  },
  "language_info": {
   "codemirror_mode": {
    "name": "ipython",
    "version": 3
   },
   "file_extension": ".py",
   "mimetype": "text/x-python",
   "name": "python",
   "nbconvert_exporter": "python",
   "pygments_lexer": "ipython3",
   "version": "3.8.8"
  }
 },
 "nbformat": 4,
 "nbformat_minor": 4
}
